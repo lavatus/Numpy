{
  "nbformat": 4,
  "nbformat_minor": 0,
  "metadata": {
    "colab": {
      "name": "Numpy.ipynb",
      "provenance": [],
      "collapsed_sections": []
    },
    "kernelspec": {
      "name": "python3",
      "display_name": "Python 3"
    }
  },
  "cells": [
    {
      "cell_type": "markdown",
      "metadata": {
        "id": "ouukbLEpFTXG"
      },
      "source": [
        "# Numpy\n",
        "\n",
        "### 1.   Mảng 1 chiều với numpy\n",
        "### 2.   Ma trận với numpy\n",
        "### 3.   Mảng(ma trận) ngẫu nhiên\n",
        "\n"
      ]
    },
    {
      "cell_type": "markdown",
      "metadata": {
        "id": "lNYIYT6OF0b2"
      },
      "source": [
        "#MẢNG 1 CHIỀU VỚI NUMPY\n"
      ]
    },
    {
      "cell_type": "code",
      "metadata": {
        "id": "BwG81Y3CFSIW"
      },
      "source": [
        "#Khởi tạo mảng zeros/ones có n phần tử :  np.zeros(n)/np.ones(n)\n",
        "import numpy as np\n",
        "A=np.zeros(5)\n",
        "print(A)\n",
        "#Khởi tạo mảng zeros có kích thước tương tự 1 mảng cho trước : np.zeros_like(NameOfArray)/np.ones_like(NameOfArray)\n",
        "B=np.zeros_like(A)\n",
        "print(B)"
      ],
      "execution_count": null,
      "outputs": []
    },
    {
      "cell_type": "code",
      "metadata": {
        "id": "Ffdu3bEWMtYV"
      },
      "source": [
        "#Khởi tạo mảng có giá trị từ 0 đến n-1 : np.arange(n)\n",
        "import numpy as np\n",
        "A=np.arange(5)\n",
        "print(A)"
      ],
      "execution_count": null,
      "outputs": []
    },
    {
      "cell_type": "code",
      "metadata": {
        "id": "CUr0E5T8E3iH"
      },
      "source": [
        "#Khởi tạo mảng theo cấp số cộng : np.arange(a,b,d) với a là số bắt đầu, (b-1) là số kết thúc d là công sai\n",
        "import numpy as np\n",
        "A=np.arange(1,10,2)\n",
        "print(A)"
      ],
      "execution_count": null,
      "outputs": []
    },
    {
      "cell_type": "code",
      "metadata": {
        "id": "e_lMk9yBF7EX"
      },
      "source": [
        "#Trả về kích thước của mảng : NameOfArray.shape\n",
        "import numpy as np\n",
        "A=np.array([1,2,5,8])\n",
        "print(A.shape)"
      ],
      "execution_count": null,
      "outputs": []
    },
    {
      "cell_type": "code",
      "metadata": {
        "id": "6MIPj4sbI326"
      },
      "source": [
        "#Các phép toán giữa mảng 1 chiều với 1 số vô hướng\n",
        "import numpy as np\n",
        "A=np.arange(1,11,1)\n",
        "print('2*A = ',2*A) #Phép nhân\n",
        "print('3/A = ',3/A) #Phép chia\n",
        "print('4**A = ',4**A) #Phép mũ"
      ],
      "execution_count": null,
      "outputs": []
    },
    {
      "cell_type": "code",
      "metadata": {
        "id": "nJr6gl99GS2D"
      },
      "source": [
        "#Tích vô hướng của 2 vector : np.sum(A*B)/np.dot(A,B)\n",
        "import numpy as np\n",
        "A=np.array([1,5,7.4,12])\n",
        "B=np.array([2.5,3,8.3,11])\n",
        "print(\"A.B = \",np.dot(A,B))"
      ],
      "execution_count": null,
      "outputs": []
    },
    {
      "cell_type": "code",
      "metadata": {
        "id": "RIxmtjM4_3Q4"
      },
      "source": [
        "#Các hàm toán học \n",
        "#np.min : trả về giá trị nhỏ nhất trong mảng\n",
        "import numpy as np\n",
        "A=np.arange(1,11,1)\n",
        "print('Min = ',np.min(A))\n",
        "#np.max : trả về giá trị lớn nhất trong mảng\n",
        "print('Max = ',np.max(A))\n",
        "#np.argmin : trả về chỉ số của giá trị nhỏ nhất\n",
        "print('Chi so min = ',np.argmin(A))\n",
        "#argmax : trả về chỉ số của giá trị lớn nhất\n",
        "print('Chi so max = ',np.argmax(A))\n"
      ],
      "execution_count": null,
      "outputs": []
    },
    {
      "cell_type": "markdown",
      "metadata": {
        "id": "DWuOwCFQHVS7"
      },
      "source": [
        "#MA TRẬN VỚI NUMPY"
      ]
    },
    {
      "cell_type": "code",
      "metadata": {
        "id": "ftV5OI-aHY2J"
      },
      "source": [
        "#Khởi tạo ma trận\n",
        "#Mỗi mảng trong array được xem là 1 dòng của ma trận : np.array([[Array1],[Array2]],dtpye)\n",
        "import numpy as np\n",
        "A=np.array([[1,3,5],[7,2,6]],dtype=int)\n",
        "print(A)"
      ],
      "execution_count": null,
      "outputs": []
    },
    {
      "cell_type": "code",
      "metadata": {
        "id": "hvC2Fyl2PQQn"
      },
      "source": [
        "#Ma trận vuông đơn vị n*n  : np.eye(n)\n",
        "import numpy as np\n",
        "A=np.eye(3)\n",
        "print('A =',A)\n",
        "#Ma trận có 1 đường chéo phụ vị trí x =1 : np.eye(n,k='x')\n",
        "B=np.eye(3,k=-1)\n",
        "print('B = ',B)"
      ],
      "execution_count": null,
      "outputs": []
    },
    {
      "cell_type": "markdown",
      "metadata": {
        "id": "GNPJ_5O_Spha"
      },
      "source": [
        "#Khởi tạo ma trận ngẫu nhiên"
      ]
    },
    {
      "cell_type": "code",
      "metadata": {
        "id": "ATMEZDiDS4e5",
        "colab": {
          "base_uri": "https://localhost:8080/"
        },
        "outputId": "dc1550c6-f1e8-4cba-f34c-566f13ef15d5"
      },
      "source": [
        "#Khởi tạo giá trị ngẫu nhiên : x = [0,1)\n",
        "#Khởi tạo 1 giá trị ngẫu nhiên : np.random.rand()\n",
        "import numpy as np\n",
        "np.random.seed() # Giúp khởi tạo các giá trị không bị trùng\n",
        "x=np.random.rand()\n",
        "print('x =',x)\n",
        "#Khởi tạo mảng n giá trị ngẫu nhiên : np.random.rand(n)\n",
        "A=np.random.rand(3)\n",
        "print('A = ',A)\n",
        "#Khởi tạo ma trận m*n với các giá trị ngẫu nhiên : np.random.rand(m,n)\n",
        "B=np.random.rand(3,2)\n",
        "print('B = ',B)"
      ],
      "execution_count": null,
      "outputs": [
        {
          "output_type": "stream",
          "text": [
            "x = 0.5113170364290286\n",
            "A =  [0.7496189  0.74966632 0.47651145]\n",
            "B =  [[0.98858984 0.87094923]\n",
            " [0.17954859 0.74407589]\n",
            " [0.91926613 0.28126018]]\n"
          ],
          "name": "stdout"
        }
      ]
    },
    {
      "cell_type": "code",
      "metadata": {
        "id": "UtoEzPy9WKmL",
        "colab": {
          "base_uri": "https://localhost:8080/"
        },
        "outputId": "fd8e70ac-6035-44cb-a25a-a25dcb17134c"
      },
      "source": [
        "#Khởi tạo mảng ngẫu nhiên tuân theo phân phối Gassian \n",
        "#Khởi tạo số ngẫu nhiên : np.random.randn()\n",
        "import numpy as np\n",
        "x=np.random.randn()\n",
        "print('x = ',x)"
      ],
      "execution_count": null,
      "outputs": [
        {
          "output_type": "stream",
          "text": [
            "x =  -1.217372813583164\n"
          ],
          "name": "stdout"
        }
      ]
    },
    {
      "cell_type": "code",
      "metadata": {
        "id": "tfGxX0eDU358",
        "colab": {
          "base_uri": "https://localhost:8080/"
        },
        "outputId": "c13c00da-c39d-40e5-ce27-4a47c2678c14"
      },
      "source": [
        "#Khởi tạo ma trận hoán vị : np.random.permutation(n)\n",
        "import numpy as np\n",
        "help(np.random.permutation)\n",
        "#A=np.random.permutation(10)\n",
        "#print('A =',A)"
      ],
      "execution_count": null,
      "outputs": [
        {
          "output_type": "stream",
          "text": [
            "Help on built-in function permutation:\n",
            "\n",
            "permutation(...) method of numpy.random.mtrand.RandomState instance\n",
            "    permutation(x)\n",
            "    \n",
            "    Randomly permute a sequence, or return a permuted range.\n",
            "    \n",
            "    If `x` is a multi-dimensional array, it is only shuffled along its\n",
            "    first index.\n",
            "    \n",
            "    .. note::\n",
            "        New code should use the ``permutation`` method of a ``default_rng()``\n",
            "        instance instead; see `random-quick-start`.\n",
            "    \n",
            "    Parameters\n",
            "    ----------\n",
            "    x : int or array_like\n",
            "        If `x` is an integer, randomly permute ``np.arange(x)``.\n",
            "        If `x` is an array, make a copy and shuffle the elements\n",
            "        randomly.\n",
            "    \n",
            "    Returns\n",
            "    -------\n",
            "    out : ndarray\n",
            "        Permuted sequence or array range.\n",
            "    \n",
            "    See Also\n",
            "    --------\n",
            "    Generator.permutation: which should be used for new code.\n",
            "    \n",
            "    Examples\n",
            "    --------\n",
            "    >>> np.random.permutation(10)\n",
            "    array([1, 7, 4, 3, 0, 9, 2, 5, 8, 6]) # random\n",
            "    \n",
            "    >>> np.random.permutation([1, 4, 9, 12, 15])\n",
            "    array([15,  1,  9,  4, 12]) # random\n",
            "    \n",
            "    >>> arr = np.arange(9).reshape((3, 3))\n",
            "    >>> np.random.permutation(arr)\n",
            "    array([[6, 7, 8], # random\n",
            "           [0, 1, 2],\n",
            "           [3, 4, 5]])\n",
            "\n"
          ],
          "name": "stdout"
        }
      ]
    }
  ]
}